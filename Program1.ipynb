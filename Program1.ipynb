{
  "nbformat": 4,
  "nbformat_minor": 0,
  "metadata": {
    "colab": {
      "name": "Program1.ipynb",
      "provenance": [],
      "collapsed_sections": [],
      "mount_file_id": "16EdIJ4IRKhEsM_p1Kg6jxTR1AA9jQSRi",
      "authorship_tag": "ABX9TyOmPn4oPQ1pp9U+4kozLIoN",
      "include_colab_link": true
    },
    "kernelspec": {
      "name": "python3",
      "display_name": "Python 3"
    },
    "language_info": {
      "name": "python"
    }
  },
  "cells": [
    {
      "cell_type": "markdown",
      "metadata": {
        "id": "view-in-github",
        "colab_type": "text"
      },
      "source": [
        "<a href=\"https://colab.research.google.com/github/sumitv13/Python_sumit/blob/main/Program1.ipynb\" target=\"_parent\"><img src=\"https://colab.research.google.com/assets/colab-badge.svg\" alt=\"Open In Colab\"/></a>"
      ]
    },
    {
      "cell_type": "code",
      "execution_count": 8,
      "metadata": {
        "id": "E83PcNHew0Wu",
        "outputId": "f28aa4dd-8ab7-429a-f65a-4a8468152d08",
        "colab": {
          "base_uri": "https://localhost:8080/"
        }
      },
      "outputs": [
        {
          "output_type": "execute_result",
          "data": {
            "text/plain": [
              "2598     NaN\n",
              "2597     NaN\n",
              "2596     NaN\n",
              "2595     NaN\n",
              "2594     NaN\n",
              "        ... \n",
              "4       True\n",
              "3       True\n",
              "2       True\n",
              "1       True\n",
              "0       True\n",
              "Name: crossover, Length: 2599, dtype: object"
            ]
          },
          "metadata": {},
          "execution_count": 8
        }
      ],
      "source": [
        "import pandas as pd\n",
        "import plotly.graph_objects as go\n",
        "\n",
        "df =pd.read_csv('/content/drive/MyDrive/Python/Bitstamp_BTCUSD_d.csv');\n",
        "\n",
        "df=df.iloc[::-1]\n",
        "\n",
        "df['date']=pd.to_datetime(df['date'])\n",
        "df['20ma']= df['close'].rolling(window =20).mean()\n",
        "df['50ma']= df['close'].rolling(window =50).mean()\n",
        "df.loc[df['20ma'] <= df['50ma'], 'crossover'] = 'True'\n",
        "#df['crossover']\n"
      ]
    }
  ]
}